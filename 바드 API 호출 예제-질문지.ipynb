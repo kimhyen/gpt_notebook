{
 "cells": [
  {
   "cell_type": "code",
   "execution_count": 6,
   "id": "d1dfcbbc",
   "metadata": {},
   "outputs": [
    {
     "name": "stdout",
     "output_type": "stream",
     "text": [
      "Requirement already satisfied: bardapi in c:\\users\\homef\\appdata\\roaming\\python\\python310\\site-packages (0.1.11)\n",
      "Requirement already satisfied: requests in c:\\programdata\\anaconda3\\lib\\site-packages (from bardapi) (2.28.1)\n",
      "Requirement already satisfied: charset-normalizer<3,>=2 in c:\\programdata\\anaconda3\\lib\\site-packages (from requests->bardapi) (2.0.4)\n",
      "Requirement already satisfied: idna<4,>=2.5 in c:\\programdata\\anaconda3\\lib\\site-packages (from requests->bardapi) (3.4)\n",
      "Requirement already satisfied: urllib3<1.27,>=1.21.1 in c:\\programdata\\anaconda3\\lib\\site-packages (from requests->bardapi) (1.26.14)\n",
      "Requirement already satisfied: certifi>=2017.4.17 in c:\\programdata\\anaconda3\\lib\\site-packages (from requests->bardapi) (2022.12.7)\n"
     ]
    }
   ],
   "source": [
    "!python -m pip install bardapi"
   ]
  },
  {
   "cell_type": "code",
   "execution_count": 7,
   "id": "f7129463",
   "metadata": {},
   "outputs": [],
   "source": [
    "from bardapi import Bard\n",
    "import requests\n",
    "import os\n",
    "\n",
    "os.environ['_BARD_API_KEY'] = \"api_key\""
   ]
  },
  {
   "cell_type": "code",
   "execution_count": 8,
   "id": "79290a0d",
   "metadata": {},
   "outputs": [],
   "source": [
    "session = requests.Session()\n",
    "session.headers = {\n",
    "            \"Host\": \"bard.google.com\",\n",
    "            \"X-Same-Domain\": \"1\",\n",
    "            \"User-Agent\": \"Mozilla/5.0 (Windows NT 10.0; WOW64) AppleWebKit/537.36 (KHTML, like Gecko) Chrome/91.0.4472.114 Safari/537.36\",\n",
    "            \"Content-Type\": \"application/x-www-form-urlencoded;charset=UTF-8\",\n",
    "            \"Origin\": \"https://bard.google.com\",\n",
    "            \"Referer\": \"https://bard.google.com/\",\n",
    "        }\n",
    "session.cookies.set(\"__Secure-1PSID\", os.getenv(\"_BARD_API_KEY\")) \n",
    "\n",
    "bard = Bard(token=os.getenv(\"_BARD_API_KEY\"), session=session, timeout=30)"
   ]
  },
  {
   "cell_type": "code",
   "execution_count": 9,
   "id": "d804b802",
   "metadata": {},
   "outputs": [
    {
     "name": "stdout",
     "output_type": "stream",
     "text": [
      "질문 : 아침이슬로 시 한편 만들어줘\n",
      "\n",
      "답변 : 네, 아침이슬로 시 한 편을 만들었습니다.\n",
      "\n",
      "아침이슬\n",
      "\n",
      "아침이슬이 잎사귀에 맺혀\n",
      "반짝반짝 빛나고 있습니다.\n",
      "새들은 지저귀고 꽃은 피어나고\n",
      "하늘은 맑고 푸르릅니다.\n",
      "\n",
      "아침이슬은 새 생명의 기쁨입니다.\n",
      "아침이슬은 세상의 아름다움입니다.\n",
      "아침이슬은 희망의 상징입니다.\n",
      "\n",
      "아침이슬은 우리에게\n",
      "새로운 하루를 시작할 힘을 줍니다.\n",
      "아침이슬은 우리에게\n",
      "세상의 아름다움을 보게 해줍니다.\n",
      "아침이슬은 우리에게\n",
      "희망을 줍니다.\n",
      "\n",
      "아침이슬, 고맙습니다.\n",
      "\n",
      "질문 : 한국헌법에 대해 3줄로 요약해줘\n",
      "\n",
      "답변 : 한국 헌법은 1948년 7월 17일에 제정된 대한민국의 최고 법률입니다. 헌법은 대한민국의 국가 구조, 권력 분립, 기본권, 국민의 권리와 의무 등을 규정하고 있습니다.\n",
      "\n",
      "질문 : 얼죽아에 대해 설명해줘\n",
      "\n",
      "답변 : 얼죽아는 \"얼어 죽어도 아이스 아메리카노\"의 줄임말로, 아무리 추운 날씨에도 아이스 아메리카노를 마시는 사람들을 일컫는 신조어입니다. 얼죽아는 2017년경부터 유행하기 시작했으며, 한국의 젊은 층 사이에서 특히 인기가 많습니다. 얼죽아는 한국의 빠른 생활 속도와 카페인에 대한 선호도 증가로 인해 유행하게 되었다고 분석되고 있습니다.\n",
      "\n",
      "얼죽아들은 아무리 추운 날씨라도 아이스 아메리카노를 마시면 몸이 뜨거워지고 정신이 맑아진다고 말합니다. 또한, 얼죽아는 아이스 아메리카노가 뜨거운 커피보다 맛있다고 생각하는 경우가 많습니다. 얼죽아는 한국의 겨울 문화의 한 부분으로 자리 잡았으며, 앞으로도 그 인기가 지속될 것으로 예상됩니다.\n",
      "\n",
      "질문 : 라면 맛있게 끓이는 방법 5가지 알려줘\n",
      "\n",
      "답변 : 라면은 누구나 좋아하는 간편식이지만, 맛있게 끓이기는 쉽지 않습니다. 라면을 맛있게 끓이는 방법 5가지를 알려드리겠습니다.\n",
      "\n",
      "1. 물을 충분히 넣는다. 라면을 끓일 때는 라면 봉지에 적힌 양보다 1컵 정도 더 많은 물을 넣습니다. 물이 많아야 라면이 쫄깃하게 익고 국물이 진해집니다.\n",
      "2. 라면을 넣기 전에 물을 끓인다. 라면을 넣기 전에 물을 끓이면 라면이 빨리 익고 면발이 퍼지지 않습니다.\n",
      "3. 라면을 넣고 끓이다가 불을 줄인다. 라면을 넣고 끓이다가 물이 끓으면 불을 줄여서 라면이 익을 때까지 끓입니다.\n",
      "4. 라면을 끓인 후에는 국물을 따라내고 기호에 따라 양념을 추가한다. 라면을 끓인 후에는 국물을 따라내고 기호에 따라 참기름, 후추, 고춧가루, 김치, 계란 등을 추가합니다.\n",
      "5. 라면을 그릇에 담고 깨를 뿌려서 먹는다. 라면을 그릇에 담고 깨를 뿌려서 먹으면 더욱 맛있게 즐길 수 있습니다.\n",
      "\n",
      "이러한 방법을 따르면 누구나 맛있게 끓인 라면을 즐길 수 있습니다.\n",
      "\n",
      "질문 : 바드에 대해 알려줘\n",
      "답변 : 바드는 구글 AI에서 개발한 대규모 언어 모델(LLM)입니다. 바드는 방대한 양의 텍스트와 코드 데이터 세트에서 훈련을 받았으며, 텍스트를 생성하고, 언어를 번역하고, 다양한 종류의 창의적인 콘텐츠를 작성하고, 유익한 방식으로 질문에 답변할 수 있습니다. 바드는 아직 개발 중이지만, 이미 많은 종류의 작업을 수행하는 방법을 배웠습니다.\n",
      "\n",
      "* 귀하의 지시를 따르고 귀하의 요청을 신중하게 완료하기 위해 최선을 다하겠습니다.\n",
      "* 질문이 개방적이거나 도전적이거나 이상하더라도 포괄적이고 유익한 방식으로 답변하기 위해 제 지식을 사용할 것입니다.\n",
      "* 시, 코드, 대본, 음악 작품, 이메일, 편지 등과 같은 다양한 창의적인 텍스트 형식을 생성합니다. 귀하의 모든 요구 사항을 충족시키기 위해 최선을 다하겠습니다.\n",
      "\n",
      "바드는 아직 개발 중이지만, 앞으로 많은 사람들을 돕는 데 중요한 역할을 할 것으로 기대됩니다.\n",
      "\n"
     ]
    }
   ],
   "source": [
    "file_result = []\n",
    "with open(\"질문지.txt\", \"r\",encoding=\"utf-8\") as f:\n",
    "    for line in f:\n",
    "        file_result.append(\"질문 : \" + line)\n",
    "        print(\"질문 : \" + line)\n",
    "        result = bard.get_answer(line)['content']\n",
    "        file_result.append(\"답변 : \")\n",
    "        print(\"답변 : \" + result)\n",
    "        for r in result.split('\\n') :\n",
    "            file_result.append(r)\n",
    "        file_result.append(\"\")\n",
    "        print(\"\")\n"
   ]
  },
  {
   "cell_type": "code",
   "execution_count": 10,
   "id": "bb12e0bf",
   "metadata": {},
   "outputs": [],
   "source": [
    "with open(\"바드 답변지.txt\", \"w\",encoding=\"utf-8\") as f:\n",
    "    f.truncate(0)\n",
    "    for result_now in file_result:\n",
    "        f.write(result_now + \"\\n\")\n",
    "f.close()"
   ]
  },
  {
   "cell_type": "code",
   "execution_count": null,
   "id": "d72a4642",
   "metadata": {},
   "outputs": [],
   "source": []
  },
  {
   "cell_type": "code",
   "execution_count": null,
   "id": "4aa6e086",
   "metadata": {},
   "outputs": [],
   "source": []
  }
 ],
 "metadata": {
  "kernelspec": {
   "display_name": "Python 3 (ipykernel)",
   "language": "python",
   "name": "python3"
  },
  "language_info": {
   "codemirror_mode": {
    "name": "ipython",
    "version": 3
   },
   "file_extension": ".py",
   "mimetype": "text/x-python",
   "name": "python",
   "nbconvert_exporter": "python",
   "pygments_lexer": "ipython3",
   "version": "3.10.9"
  }
 },
 "nbformat": 4,
 "nbformat_minor": 5
}
