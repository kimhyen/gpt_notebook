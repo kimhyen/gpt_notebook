{
 "cells": [
  {
   "cell_type": "code",
   "execution_count": 1,
   "id": "d1dfcbbc",
   "metadata": {},
   "outputs": [
    {
     "name": "stdout",
     "output_type": "stream",
     "text": [
      "Requirement already satisfied: bardapi in c:\\users\\homef\\appdata\\roaming\\python\\python310\\site-packages (0.1.11)\n",
      "Requirement already satisfied: requests in c:\\programdata\\anaconda3\\lib\\site-packages (from bardapi) (2.28.1)\n",
      "Requirement already satisfied: charset-normalizer<3,>=2 in c:\\programdata\\anaconda3\\lib\\site-packages (from requests->bardapi) (2.0.4)\n",
      "Requirement already satisfied: idna<4,>=2.5 in c:\\programdata\\anaconda3\\lib\\site-packages (from requests->bardapi) (3.4)\n",
      "Requirement already satisfied: urllib3<1.27,>=1.21.1 in c:\\programdata\\anaconda3\\lib\\site-packages (from requests->bardapi) (1.26.14)\n",
      "Requirement already satisfied: certifi>=2017.4.17 in c:\\programdata\\anaconda3\\lib\\site-packages (from requests->bardapi) (2022.12.7)\n"
     ]
    }
   ],
   "source": [
    "!python -m pip install bardapi"
   ]
  },
  {
   "cell_type": "code",
   "execution_count": 2,
   "id": "f7129463",
   "metadata": {},
   "outputs": [],
   "source": [
    "from bardapi import Bard\n",
    "import requests\n",
    "import os\n",
    "\n",
    "os.environ['_BARD_API_KEY'] = \"you_api_key\""
   ]
  },
  {
   "cell_type": "code",
   "execution_count": 3,
   "id": "79290a0d",
   "metadata": {},
   "outputs": [],
   "source": [
    "session = requests.Session()\n",
    "session.headers = {\n",
    "            \"Host\": \"bard.google.com\",\n",
    "            \"X-Same-Domain\": \"1\",\n",
    "            \"User-Agent\": \"Mozilla/5.0 (Windows NT 10.0; WOW64) AppleWebKit/537.36 (KHTML, like Gecko) Chrome/91.0.4472.114 Safari/537.36\",\n",
    "            \"Content-Type\": \"application/x-www-form-urlencoded;charset=UTF-8\",\n",
    "            \"Origin\": \"https://bard.google.com\",\n",
    "            \"Referer\": \"https://bard.google.com/\",\n",
    "        }\n",
    "session.cookies.set(\"__Secure-1PSID\", os.getenv(\"_BARD_API_KEY\")) \n",
    "\n",
    "bard = Bard(token=os.getenv(\"_BARD_API_KEY\"), session=session, timeout=30)"
   ]
  },
  {
   "cell_type": "code",
   "execution_count": 4,
   "id": "d804b802",
   "metadata": {},
   "outputs": [
    {
     "name": "stdout",
     "output_type": "stream",
     "text": [
      "질문 : 아침이슬로 시 한편 만들어줘\n",
      "\n",
      "답변 : 아침이슬\n",
      "\n",
      "아침이슬이 맺힌 풀잎에\n",
      "하늘의 푸르름이 스며든다.\n",
      "새들이 울고 꽃들이 피어나는\n",
      "아침,\n",
      "이슬은 세상을 새롭게 태어나게 한다.\n",
      "\n",
      "아침이슬은\n",
      "새 생명의 시작이다.\n",
      "어둠을 깨우고\n",
      "새로운 희망을 가져다준다.\n",
      "\n",
      "아침이슬은\n",
      "우리에게 주는 축복이다.\n",
      "그것은\n",
      "우리에게 감사하는 마음을 가르쳐주고,\n",
      "더 나은 세상을 만드는 힘을 준다.\n",
      "\n",
      "아침이슬을 마주하며,\n",
      "우리는\n",
      "새로운 하루를 시작할 수 있다.\n",
      "그리고,\n",
      "더 나은 세상을 만들 수 있다.\n",
      "\n",
      "아침이슬,\n",
      "감사합니다.\n",
      "\n",
      "질문 : 한국헌법에 대해 3줄로 요약해줘\n",
      "\n",
      "답변 : 한국 헌법은 1948년 7월 17일에 제정되었으며, 대한민국의 최고법입니다. 헌법은 대한민국의 국가원리, 국민의 권리와 의무, 정부의 조직과 기능, 권력분립, 사법제도, 국방제도, 헌법 개정 절차 등을 규정하고 있습니다.\n",
      "\n",
      "질문 : 얼죽아에 대해 설명해줘\n",
      "\n",
      "답변 : 얼죽아는 '얼어 죽어도 아이스 아메리카노'의 줄임말로, 아무리 추운 겨울이라도 아이스 아메리카노를 마시겠다는 사람들을 일컫는 신조어입니다. 얼죽아는 2017년부터 유행하기 시작했으며, 한국에서 아이스 아메리카노의 인기가 높아지면서 더 널리 알려지게 되었습니다. 얼죽아는 젊은 층 사이에서 특히 인기가 많으며, 아이스 아메리카노의 맛과 카페인의 효과를 좋아하는 사람들이 주로 얼죽아에 속합니다. 얼죽아는 한국의 겨울 문화에 하나의 트렌드로 자리 잡았으며, 얼죽아를 위한 다양한 아이스 아메리카노 제품과 마케팅 활동이 이루어지고 있습니다.\n",
      "\n",
      "질문 : 라면 맛있게 끓이는 방법 5가지 알려줘\n",
      "\n",
      "답변 : 라면은 누구나 좋아하는 간편식이지만, 맛있게 끓이는 방법을 아는 사람은 많지 않습니다. 라면을 맛있게 끓이는 방법은 다음과 같습니다.\n",
      "\n",
      "1. 라면을 끓이기 전에 냄비에 물을 넉넉히 붓습니다. 라면을 끓일 때는 라면 봉지에 적힌 대로 물을 붓지 말고, 라면이 푹 익을 수 있도록 물을 많이 붓는 것이 좋습니다.\n",
      "2. 냄비에 물을 붓고 끓기 시작하면 라면을 넣습니다. 라면을 넣을 때는 라면 봉지에 적힌 대로 라면을 넣지 말고, 라면이 서로 붙지 않도록 주의해서 넣습니다.\n",
      "3. 라면이 끓으면 불을 약하게 줄이고 라면이 푹 익을 때까지 끓입니다. 라면이 푹 익으면 라면을 건져서 그릇에 담습니다.\n",
      "4. 라면을 그릇에 담은 후에는 라면 국물을 붓고, 기호에 따라 김치, 계란, 파, 고추 등을 넣어줍니다.\n",
      "5. 라면을 잘 비벼서 먹습니다.\n",
      "\n",
      "이러한 방법을 따르면 누구나 맛있는 라면을 끓일 수 있습니다.\n",
      "\n",
      "질문 : 바드에 대해 알려줘\n",
      "답변 : Bard는 Google AI에서 개발한 대규모 언어 모델입니다. 텍스트와 코드의 방대한 데이터 세트에 대해 교육을 받았으며 텍스트를 생성하고, 언어를 번역하고, 다양한 종류의 창의적인 콘텐츠를 작성하고, 정보를 제공하는 방식으로 질문에 답변할 수 있습니다. 아직 개발 중이지만 다음을 포함하여 많은 종류의 작업을 수행하는 방법을 배웠습니다.\n",
      "\n",
      "* 귀하의 지시를 따르고 귀하의 요청을 신중하게 완료하기 위해 최선을 다하겠습니다.\n",
      "* 질문이 개방적이거나 도전적이거나 이상하더라도 포괄적이고 유익한 방식으로 답변하기 위해 제 지식을 사용할 것입니다.\n",
      "* 시, 코드, 대본, 음악 작품, 이메일, 편지 등과 같은 다양한 창의적인 텍스트 형식을 생성합니다. 귀하의 모든 요구 사항을 충족시키기 위해 최선을 다하겠습니다.\n",
      "\n",
      "Bard는 아직 개발 중이지만 매일 새로운 것을 배우고 있습니다. 앞으로 무엇을 할 수 있을지 기대됩니다!\n",
      "\n"
     ]
    }
   ],
   "source": [
    "file_result = []\n",
    "with open(\"질문지.txt\", \"r\",encoding=\"utf-8\") as f:\n",
    "    for line in f:\n",
    "        file_result.append(\"질문 : \" + line)\n",
    "        print(\"질문 : \" + line)\n",
    "        result = bard.get_answer(line)['content']\n",
    "        file_result.append(\"답변 : \")\n",
    "        print(\"답변 : \" + result)\n",
    "        for r in result.split('\\n') :\n",
    "            file_result.append(r)\n",
    "        file_result.append(\"\")\n",
    "        print(\"\")\n"
   ]
  },
  {
   "cell_type": "code",
   "execution_count": 5,
   "id": "bb12e0bf",
   "metadata": {},
   "outputs": [],
   "source": [
    "with open(\"바드 답변지.txt\", \"w\",encoding=\"utf-8\") as f:\n",
    "    f.truncate(0)\n",
    "    for result_now in file_result:\n",
    "        f.write(result_now + \"\\n\")\n",
    "f.close()"
   ]
  }
 ],
 "metadata": {
  "kernelspec": {
   "display_name": "Python 3 (ipykernel)",
   "language": "python",
   "name": "python3"
  },
  "language_info": {
   "codemirror_mode": {
    "name": "ipython",
    "version": 3
   },
   "file_extension": ".py",
   "mimetype": "text/x-python",
   "name": "python",
   "nbconvert_exporter": "python",
   "pygments_lexer": "ipython3",
   "version": "3.10.9"
  }
 },
 "nbformat": 4,
 "nbformat_minor": 5
}
