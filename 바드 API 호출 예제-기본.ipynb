{
 "cells": [
  {
   "cell_type": "code",
   "execution_count": 1,
   "id": "d1dfcbbc",
   "metadata": {},
   "outputs": [
    {
     "name": "stdout",
     "output_type": "stream",
     "text": [
      "Requirement already satisfied: bardapi in c:\\users\\homef\\appdata\\roaming\\python\\python310\\site-packages (0.1.11)\n",
      "Requirement already satisfied: requests in c:\\programdata\\anaconda3\\lib\\site-packages (from bardapi) (2.28.1)\n",
      "Requirement already satisfied: charset-normalizer<3,>=2 in c:\\programdata\\anaconda3\\lib\\site-packages (from requests->bardapi) (2.0.4)\n",
      "Requirement already satisfied: idna<4,>=2.5 in c:\\programdata\\anaconda3\\lib\\site-packages (from requests->bardapi) (3.4)\n",
      "Requirement already satisfied: urllib3<1.27,>=1.21.1 in c:\\programdata\\anaconda3\\lib\\site-packages (from requests->bardapi) (1.26.14)\n",
      "Requirement already satisfied: certifi>=2017.4.17 in c:\\programdata\\anaconda3\\lib\\site-packages (from requests->bardapi) (2022.12.7)\n"
     ]
    }
   ],
   "source": [
    "!python -m pip install bardapi"
   ]
  },
  {
   "cell_type": "code",
   "execution_count": 3,
   "id": "f7129463",
   "metadata": {},
   "outputs": [],
   "source": [
    "from bardapi import Bard\n",
    "import requests\n",
    "import os\n",
    "\n",
    "os.environ['_BARD_API_KEY'] = \"you_api_key\""
   ]
  },
  {
   "cell_type": "code",
   "execution_count": 4,
   "id": "79290a0d",
   "metadata": {},
   "outputs": [],
   "source": [
    "session = requests.Session()\n",
    "session.headers = {\n",
    "            \"Host\": \"bard.google.com\",\n",
    "            \"X-Same-Domain\": \"1\",\n",
    "            \"User-Agent\": \"Mozilla/5.0 (Windows NT 10.0; WOW64) AppleWebKit/537.36 (KHTML, like Gecko) Chrome/91.0.4472.114 Safari/537.36\",\n",
    "            \"Content-Type\": \"application/x-www-form-urlencoded;charset=UTF-8\",\n",
    "            \"Origin\": \"https://bard.google.com\",\n",
    "            \"Referer\": \"https://bard.google.com/\",\n",
    "        }\n",
    "session.cookies.set(\"__Secure-1PSID\", os.getenv(\"_BARD_API_KEY\")) \n",
    "\n",
    "bard = Bard(token=os.getenv(\"_BARD_API_KEY\"), session=session, timeout=30)"
   ]
  },
  {
   "cell_type": "code",
   "execution_count": 5,
   "id": "d804b802",
   "metadata": {},
   "outputs": [
    {
     "name": "stdout",
     "output_type": "stream",
     "text": [
      "아침이슬\n",
      "\n",
      "아침이슬은 맑고 투명하다\n",
      "하늘의 빛을 품고 있다\n",
      "아침이슬은 고요하고 평화롭다\n",
      "자연의 생명의 기운을 담고 있다\n",
      "\n",
      "아침이슬은 순수하고 아름다워\n",
      "우리에게 희망을 준다\n",
      "아침이슬은 소중하고 귀하다\n",
      "우리의 삶을 풍요롭게 한다\n",
      "\n",
      "아침이슬, 고맙습니다.\n",
      "우리의 삶을 더 아름답게 만들어 주셔서.\n"
     ]
    }
   ],
   "source": [
    "result = bard.get_answer(\"아침이슬로 시를 한편 지어줘\")['content']\n",
    "for r in result.split('\\n') :\n",
    "    print(r)"
   ]
  },
  {
   "cell_type": "code",
   "execution_count": null,
   "id": "bb12e0bf",
   "metadata": {},
   "outputs": [],
   "source": []
  }
 ],
 "metadata": {
  "kernelspec": {
   "display_name": "Python 3 (ipykernel)",
   "language": "python",
   "name": "python3"
  },
  "language_info": {
   "codemirror_mode": {
    "name": "ipython",
    "version": 3
   },
   "file_extension": ".py",
   "mimetype": "text/x-python",
   "name": "python",
   "nbconvert_exporter": "python",
   "pygments_lexer": "ipython3",
   "version": "3.10.9"
  }
 },
 "nbformat": 4,
 "nbformat_minor": 5
}
