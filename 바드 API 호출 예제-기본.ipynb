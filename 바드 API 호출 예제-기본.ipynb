{
 "cells": [
  {
   "cell_type": "code",
   "execution_count": null,
   "id": "d1dfcbbc",
   "metadata": {},
   "outputs": [],
   "source": [
    "!python -m pip install bardapi"
   ]
  },
  {
   "cell_type": "code",
   "execution_count": null,
   "id": "f7129463",
   "metadata": {},
   "outputs": [],
   "source": [
    "from bardapi import Bard\n",
    "import requests\n",
    "import os\n",
    "\n",
    "os.environ['_BARD_API_KEY'] = \"api_key\""
   ]
  },
  {
   "cell_type": "code",
   "execution_count": null,
   "id": "79290a0d",
   "metadata": {},
   "outputs": [],
   "source": [
    "session = requests.Session()\n",
    "session.headers = {\n",
    "            \"Host\": \"bard.google.com\",\n",
    "            \"X-Same-Domain\": \"1\",\n",
    "            \"User-Agent\": \"Mozilla/5.0 (Windows NT 10.0; WOW64) AppleWebKit/537.36 (KHTML, like Gecko) Chrome/91.0.4472.114 Safari/537.36\",\n",
    "            \"Content-Type\": \"application/x-www-form-urlencoded;charset=UTF-8\",\n",
    "            \"Origin\": \"https://bard.google.com\",\n",
    "            \"Referer\": \"https://bard.google.com/\",\n",
    "        }\n",
    "session.cookies.set(\"__Secure-1PSID\", os.getenv(\"_BARD_API_KEY\")) \n",
    "\n",
    "bard = Bard(token=os.getenv(\"_BARD_API_KEY\"), session=session, timeout=30)"
   ]
  },
  {
   "cell_type": "code",
   "execution_count": null,
   "id": "d804b802",
   "metadata": {},
   "outputs": [],
   "source": [
    "result = bard.get_answer(\"아침이슬로 시를 한편 지어줘\")['content']\n",
    "for r in result.split('\\n') :\n",
    "    print(r)"
   ]
  },
  {
   "cell_type": "code",
   "execution_count": null,
   "id": "bb12e0bf",
   "metadata": {},
   "outputs": [],
   "source": []
  }
 ],
 "metadata": {
  "kernelspec": {
   "display_name": "Python 3 (ipykernel)",
   "language": "python",
   "name": "python3"
  },
  "language_info": {
   "codemirror_mode": {
    "name": "ipython",
    "version": 3
   },
   "file_extension": ".py",
   "mimetype": "text/x-python",
   "name": "python",
   "nbconvert_exporter": "python",
   "pygments_lexer": "ipython3",
   "version": "3.10.9"
  }
 },
 "nbformat": 4,
 "nbformat_minor": 5
}
