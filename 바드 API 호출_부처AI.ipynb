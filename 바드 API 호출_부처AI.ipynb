{
 "cells": [
  {
   "cell_type": "code",
   "execution_count": 1,
   "id": "d1dfcbbc",
   "metadata": {},
   "outputs": [
    {
     "name": "stdout",
     "output_type": "stream",
     "text": [
      "Requirement already satisfied: bardapi in c:\\programdata\\anaconda3\\lib\\site-packages (0.1.11)\n",
      "Requirement already satisfied: requests in c:\\programdata\\anaconda3\\lib\\site-packages (from bardapi) (2.28.1)\n",
      "Requirement already satisfied: charset-normalizer<3,>=2 in c:\\programdata\\anaconda3\\lib\\site-packages (from requests->bardapi) (2.0.4)\n",
      "Requirement already satisfied: idna<4,>=2.5 in c:\\programdata\\anaconda3\\lib\\site-packages (from requests->bardapi) (3.4)\n",
      "Requirement already satisfied: urllib3<1.27,>=1.21.1 in c:\\programdata\\anaconda3\\lib\\site-packages (from requests->bardapi) (1.26.14)\n",
      "Requirement already satisfied: certifi>=2017.4.17 in c:\\programdata\\anaconda3\\lib\\site-packages (from requests->bardapi) (2022.12.7)\n"
     ]
    }
   ],
   "source": [
    "!python -m pip install bardapi"
   ]
  },
  {
   "cell_type": "code",
   "execution_count": 2,
   "id": "f7129463",
   "metadata": {},
   "outputs": [],
   "source": [
    "from bardapi import Bard\n",
    "import requests\n",
    "import os\n",
    "\n",
    "os.environ['_BARD_API_KEY'] = \"you api key\"\n",
    "\n"
   ]
  },
  {
   "cell_type": "code",
   "execution_count": 3,
   "id": "79290a0d",
   "metadata": {},
   "outputs": [],
   "source": [
    "session = requests.Session()\n",
    "session.headers = {\n",
    "            \"Host\": \"bard.google.com\",\n",
    "            \"X-Same-Domain\": \"1\",\n",
    "            \"User-Agent\": \"Mozilla/5.0 (Windows NT 10.0; WOW64) AppleWebKit/537.36 (KHTML, like Gecko) Chrome/91.0.4472.114 Safari/537.36\",\n",
    "            \"Content-Type\": \"application/x-www-form-urlencoded;charset=UTF-8\",\n",
    "            \"Origin\": \"https://bard.google.com\",\n",
    "            \"Referer\": \"https://bard.google.com/\",\n",
    "        }\n",
    "session.cookies.set(\"__Secure-1PSID\", os.getenv(\"_BARD_API_KEY\")) \n",
    "\n",
    "bard = Bard(token=os.getenv(\"_BARD_API_KEY\"), session=session, timeout=30)"
   ]
  },
  {
   "cell_type": "code",
   "execution_count": null,
   "id": "7b065881",
   "metadata": {},
   "outputs": [
    {
     "name": "stdout",
     "output_type": "stream",
     "text": [
      "serving at port 8000\n"
     ]
    },
    {
     "name": "stderr",
     "output_type": "stream",
     "text": [
      "127.0.0.1 - - [23/Jun/2023 11:12:05] \"GET /result?ask=%EC%98%A4%EB%8A%98%EC%9D%80+%ED%8F%89%ED%99%94%EB%A1%AD%EA%B2%8C+%EB%B3%B4%EB%82%B4%EB%8A%94%EB%B2%95 HTTP/1.1\" 200 -\n"
     ]
    },
    {
     "name": "stdout",
     "output_type": "stream",
     "text": [
      "네, 물론입니다. 오늘을 평화롭게 보내는 방법에 도움이 될 만한 불경 구절은 다음과 같습니다.\n",
      "\n",
      "> \"일체 중생은 고통받는다. 고통의 원인은 욕망이다. 욕망을 버리면 고통에서 벗어날 수 있다.\"\n",
      "\n",
      "이 구절은 고통의 근원을 욕망으로 보고, 욕망을 버림으로써 고통에서 벗어날 수 있다고 말하고 있습니다. 이는 고통의 원인을 제거함으로써 고통에서 벗어날 수 있다는 불교의 가르침을 잘 보여주고 있습니다.\n",
      "\n",
      "오늘을 평화롭게 보내기 위해서는 욕망을 버리는 것이 중요합니다. 욕망을 버리면 마음이 평온해지고, 평온한 마음으로 오늘을 보내는 것이 가능해집니다.\n",
      "\n",
      "오늘을 평화롭게 보내기 위해 다음과 같은 방법을 실천해 보시기 바랍니다.\n",
      "\n",
      "* 욕망을 버리기 위해 노력합니다.\n",
      "* 마음을 평온하게 유지하기 위해 노력합니다.\n",
      "* 오늘을 소중히 여기고 감사하는 마음을 가집니다.\n",
      "\n",
      "이러한 방법을 실천함으로써 오늘을 평화롭게 보내실 수 있기를 바랍니다.\n",
      "네, 물론입니다. 오늘을 평화롭게 보내는 방법에 도움이 될 만한 불교적 조언은 다음과 같습니다.\n",
      "\n",
      "> \"현재에 집중하라.\"\n",
      "\n",
      "불교는 현재에 집중함으로써 고통에서 벗어날 수 있다고 가르칩니다. 과거에 대한 미련이나 미래에 대한 걱정은 마음에 불안과 불편함을 가져옵니다. 따라서 오늘을 평화롭게 보내기 위해서는 현재에 집중하고 과거와 미래에 대한 생각을 내려놓는 것이 중요합니다.\n",
      "\n",
      "현재에 집중하기 위해서는 다음과 같은 방법을 실천해 보시기 바랍니다.\n",
      "\n",
      "* 호흡에 집중합니다.\n",
      "* 주변 환경을 관찰합니다.\n",
      "* 지금 이 순간을 즐깁니다.\n",
      "\n",
      "이러한 방법을 실천함으로써 오늘을 평화롭게 보내실 수 있기를 바랍니다.\n"
     ]
    }
   ],
   "source": [
    "import http.server\n",
    "import socketserver\n",
    "from urllib.parse import urlparse, parse_qs\n",
    "\n",
    "PORT = 8000\n",
    "\n",
    "Handler = http.server.SimpleHTTPRequestHandler\n",
    "\n",
    "class MyHandler(Handler):\n",
    "    def do_GET(self):\n",
    "        if self.path == '/ask':\n",
    "            self.send_response(200)\n",
    "            self.send_header('Content-type', 'text/html')\n",
    "            self.end_headers()\n",
    "            with open('index.html', 'r', encoding=\"utf-8\") as f:\n",
    "                html = f.read()\n",
    "                self.wfile.write(html.encode('utf-8'))\n",
    "        elif self.path.find(\"/result\") > -1 :                     \n",
    "            parsed = urlparse(self.path)\n",
    "            query_parsed = parse_qs(parsed.query)\n",
    "            ask = query_parsed[\"ask\"][0]\n",
    "            #ask = self.path.split(\"ask=\")[1]\n",
    "            self.send_response(200)\n",
    "            self.send_header(\"Content-Type\", \"text/html\")\n",
    "            self.end_headers()            \n",
    "            result_text = '<html lang=\"en\"><head><meta charset=\"UTF-8\"><title>Ask</title></head><body>'\n",
    "            result_text += \"질문하신 \" + ask + \"에 대한 불경 구절 입니다.<br />\"            \n",
    "            \n",
    "            ai_result = bard.get_answer('\"' + ask + '\" 에 대해 도움이 될만한 불경구절 한개만 써줘.')['content']\n",
    "            print(ai_result)\n",
    "            lines = ai_result.split('\\n')\n",
    "            new_lines = lines[2:]\n",
    "            new_text = '\\n'.join(new_lines)\n",
    "            \n",
    "            #result_text += ai_result           \n",
    "            result_text += new_text \n",
    "            \n",
    "            result_text += \"<br /><br />\"\n",
    "            result_text += \"도움이 될만한 말씀입니다.<br />\"            \n",
    "            \n",
    "            ai_result = bard.get_answer('\"' + ask + '\" 에 대해 도움이 될만한 불교적 조언 한개만 써줘.')['content']\n",
    "            print(ai_result)\n",
    "            \n",
    "            lines = ai_result.split('\\n')\n",
    "            new_lines = lines[2:]\n",
    "            new_text = '\\n'.join(new_lines)\n",
    "            \n",
    "            #result_text += ai_result           \n",
    "            result_text += new_text \n",
    "            result_text += \"<br /><br /><a href='/ask'>질문으로 돌아가기</a></body></html>\"\n",
    "            \n",
    "            self.wfile.write(result_text.encode(\"utf-8\"))\n",
    "        else:\n",
    "            \n",
    "            super().do_GET()\n",
    "\n",
    "with socketserver.TCPServer((\"\", PORT), MyHandler) as httpd:\n",
    "    print(\"serving at port\", PORT)\n",
    "    httpd.serve_forever()"
   ]
  },
  {
   "cell_type": "code",
   "execution_count": null,
   "id": "8310e1f9",
   "metadata": {},
   "outputs": [],
   "source": []
  }
 ],
 "metadata": {
  "kernelspec": {
   "display_name": "Python 3 (ipykernel)",
   "language": "python",
   "name": "python3"
  },
  "language_info": {
   "codemirror_mode": {
    "name": "ipython",
    "version": 3
   },
   "file_extension": ".py",
   "mimetype": "text/x-python",
   "name": "python",
   "nbconvert_exporter": "python",
   "pygments_lexer": "ipython3",
   "version": "3.10.9"
  }
 },
 "nbformat": 4,
 "nbformat_minor": 5
}
